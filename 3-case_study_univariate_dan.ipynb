{
 "cells": [
  {
   "cell_type": "markdown",
   "id": "ab518dd1-2370-44cc-a2b2-5724d1d20b44",
   "metadata": {},
   "source": [
    "# Univariate data analyses - NHANES case study"
   ]
  },
  {
   "cell_type": "code",
   "execution_count": 1,
   "id": "6240aee4-d2d9-4a37-a3c9-bf48a43b01c8",
   "metadata": {},
   "outputs": [],
   "source": [
    "import matplotlib.pyplot as plt\n",
    "import pandas as pd\n",
    "import numpy as np\n",
    "import seaborn as sns\n"
   ]
  },
  {
   "cell_type": "code",
   "execution_count": 2,
   "id": "d7204c51-e656-4855-96fc-d96e8f4964cf",
   "metadata": {},
   "outputs": [],
   "source": [
    "# set notebook environment\n",
    "%precision %.3f\n",
    "pd.options.display.float_format = '{:,.3f}'.format\n",
    "plt.rcParams[\"figure.figsize\"] = 10,8\n",
    "pd.set_option('display.width', 100)\n",
    "\n",
    "# Disable jedi autocompleter\n",
    "%config Completer.use_jedi = False"
   ]
  },
  {
   "cell_type": "code",
   "execution_count": 3,
   "id": "e9e51d60-f556-4d93-b04a-84eeeaab6db8",
   "metadata": {},
   "outputs": [],
   "source": [
    "df = pd.read_csv(\"data/nhanes_2015_2016.csv\")"
   ]
  },
  {
   "cell_type": "code",
   "execution_count": 4,
   "id": "d0849d7e-5346-4cb4-80a1-3d24f8535e52",
   "metadata": {},
   "outputs": [
    {
     "data": {
      "text/html": [
       "<div>\n",
       "<style scoped>\n",
       "    .dataframe tbody tr th:only-of-type {\n",
       "        vertical-align: middle;\n",
       "    }\n",
       "\n",
       "    .dataframe tbody tr th {\n",
       "        vertical-align: top;\n",
       "    }\n",
       "\n",
       "    .dataframe thead th {\n",
       "        text-align: right;\n",
       "    }\n",
       "</style>\n",
       "<table border=\"1\" class=\"dataframe\">\n",
       "  <thead>\n",
       "    <tr style=\"text-align: right;\">\n",
       "      <th></th>\n",
       "      <th>SEQN</th>\n",
       "      <th>ALQ101</th>\n",
       "      <th>ALQ110</th>\n",
       "      <th>ALQ130</th>\n",
       "      <th>SMQ020</th>\n",
       "      <th>RIAGENDR</th>\n",
       "      <th>RIDAGEYR</th>\n",
       "      <th>RIDRETH1</th>\n",
       "      <th>DMDCITZN</th>\n",
       "      <th>DMDEDUC2</th>\n",
       "      <th>...</th>\n",
       "      <th>BPXSY2</th>\n",
       "      <th>BPXDI2</th>\n",
       "      <th>BMXWT</th>\n",
       "      <th>BMXHT</th>\n",
       "      <th>BMXBMI</th>\n",
       "      <th>BMXLEG</th>\n",
       "      <th>BMXARML</th>\n",
       "      <th>BMXARMC</th>\n",
       "      <th>BMXWAIST</th>\n",
       "      <th>HIQ210</th>\n",
       "    </tr>\n",
       "  </thead>\n",
       "  <tbody>\n",
       "    <tr>\n",
       "      <th>130</th>\n",
       "      <td>83962</td>\n",
       "      <td>1.000</td>\n",
       "      <td>nan</td>\n",
       "      <td>1.000</td>\n",
       "      <td>2</td>\n",
       "      <td>2</td>\n",
       "      <td>28</td>\n",
       "      <td>4</td>\n",
       "      <td>1.000</td>\n",
       "      <td>5.000</td>\n",
       "      <td>...</td>\n",
       "      <td>108.000</td>\n",
       "      <td>62.000</td>\n",
       "      <td>68.400</td>\n",
       "      <td>166.500</td>\n",
       "      <td>24.700</td>\n",
       "      <td>41.500</td>\n",
       "      <td>38.000</td>\n",
       "      <td>30.500</td>\n",
       "      <td>88.000</td>\n",
       "      <td>1.000</td>\n",
       "    </tr>\n",
       "    <tr>\n",
       "      <th>4455</th>\n",
       "      <td>91454</td>\n",
       "      <td>1.000</td>\n",
       "      <td>nan</td>\n",
       "      <td>1.000</td>\n",
       "      <td>1</td>\n",
       "      <td>2</td>\n",
       "      <td>68</td>\n",
       "      <td>2</td>\n",
       "      <td>1.000</td>\n",
       "      <td>3.000</td>\n",
       "      <td>...</td>\n",
       "      <td>136.000</td>\n",
       "      <td>92.000</td>\n",
       "      <td>71.400</td>\n",
       "      <td>160.000</td>\n",
       "      <td>27.900</td>\n",
       "      <td>28.500</td>\n",
       "      <td>35.500</td>\n",
       "      <td>31.000</td>\n",
       "      <td>112.200</td>\n",
       "      <td>2.000</td>\n",
       "    </tr>\n",
       "    <tr>\n",
       "      <th>599</th>\n",
       "      <td>84763</td>\n",
       "      <td>2.000</td>\n",
       "      <td>2.000</td>\n",
       "      <td>nan</td>\n",
       "      <td>2</td>\n",
       "      <td>2</td>\n",
       "      <td>56</td>\n",
       "      <td>1</td>\n",
       "      <td>2.000</td>\n",
       "      <td>1.000</td>\n",
       "      <td>...</td>\n",
       "      <td>150.000</td>\n",
       "      <td>78.000</td>\n",
       "      <td>66.000</td>\n",
       "      <td>162.400</td>\n",
       "      <td>25.000</td>\n",
       "      <td>34.300</td>\n",
       "      <td>37.800</td>\n",
       "      <td>32.800</td>\n",
       "      <td>92.300</td>\n",
       "      <td>nan</td>\n",
       "    </tr>\n",
       "  </tbody>\n",
       "</table>\n",
       "<p>3 rows × 28 columns</p>\n",
       "</div>"
      ],
      "text/plain": [
       "       SEQN  ALQ101  ALQ110  ALQ130  SMQ020  RIAGENDR  RIDAGEYR  RIDRETH1  DMDCITZN  DMDEDUC2  \\\n",
       "130   83962   1.000     nan   1.000       2         2        28         4     1.000     5.000   \n",
       "4455  91454   1.000     nan   1.000       1         2        68         2     1.000     3.000   \n",
       "599   84763   2.000   2.000     nan       2         2        56         1     2.000     1.000   \n",
       "\n",
       "      ...  BPXSY2  BPXDI2  BMXWT   BMXHT  BMXBMI  BMXLEG  BMXARML  BMXARMC  BMXWAIST  HIQ210  \n",
       "130   ... 108.000  62.000 68.400 166.500  24.700  41.500   38.000   30.500    88.000   1.000  \n",
       "4455  ... 136.000  92.000 71.400 160.000  27.900  28.500   35.500   31.000   112.200   2.000  \n",
       "599   ... 150.000  78.000 66.000 162.400  25.000  34.300   37.800   32.800    92.300     nan  \n",
       "\n",
       "[3 rows x 28 columns]"
      ]
     },
     "execution_count": 4,
     "metadata": {},
     "output_type": "execute_result"
    }
   ],
   "source": [
    "df.sample(3)"
   ]
  },
  {
   "cell_type": "markdown",
   "id": "99eeb419-d2f3-4d75-82df-01ac3ef58f87",
   "metadata": {},
   "source": [
    "## Frequency Tables\n",
    "\n",
    "The `value_counts` method can be used to determine the number of times that each distinct value of a variable occurs in a data set. In statistical terms, this is the \"frequency distribution* of the variable.\n",
    "\n",
    "Below we show the frequency distribution of the DMDEDUC2 variable, which is a variable that reflects a person's level of educational attainment:"
   ]
  },
  {
   "cell_type": "code",
   "execution_count": 5,
   "id": "75aaebca-b35c-4d97-9f49-b2e6d5177836",
   "metadata": {},
   "outputs": [
    {
     "data": {
      "text/plain": [
       "4.000    1621\n",
       "5.000    1366\n",
       "3.000    1186\n",
       "1.000     655\n",
       "2.000     643\n",
       "9.000       3\n",
       "Name: DMDEDUC2, dtype: int64"
      ]
     },
     "execution_count": 5,
     "metadata": {},
     "output_type": "execute_result"
    }
   ],
   "source": [
    "df[\"DMDEDUC2\"].value_counts()"
   ]
  },
  {
   "cell_type": "markdown",
   "id": "1812c20e-3769-467c-aeed-e6d9e2941e17",
   "metadata": {},
   "source": [
    "This table shows, for example, that 1621 people in the data file have DMDEDUC=4, which indicates that the person has completed some college, but has not graduated with a four-year degree.  \n",
    "Note that the `value_counts` method excludes missing values."
   ]
  },
  {
   "cell_type": "code",
   "execution_count": 6,
   "id": "445803c3-7ee2-4588-9ab7-d5e4d5971796",
   "metadata": {},
   "outputs": [
    {
     "name": "stdout",
     "output_type": "stream",
     "text": [
      "<class 'pandas.core.frame.DataFrame'>\n",
      "RangeIndex: 5735 entries, 0 to 5734\n",
      "Data columns (total 28 columns):\n",
      " #   Column    Non-Null Count  Dtype  \n",
      "---  ------    --------------  -----  \n",
      " 0   SEQN      5735 non-null   int64  \n",
      " 1   ALQ101    5208 non-null   float64\n",
      " 2   ALQ110    1731 non-null   float64\n",
      " 3   ALQ130    3379 non-null   float64\n",
      " 4   SMQ020    5735 non-null   int64  \n",
      " 5   RIAGENDR  5735 non-null   int64  \n",
      " 6   RIDAGEYR  5735 non-null   int64  \n",
      " 7   RIDRETH1  5735 non-null   int64  \n",
      " 8   DMDCITZN  5734 non-null   float64\n",
      " 9   DMDEDUC2  5474 non-null   float64\n",
      " 10  DMDMARTL  5474 non-null   float64\n",
      " 11  DMDHHSIZ  5735 non-null   int64  \n",
      " 12  WTINT2YR  5735 non-null   float64\n",
      " 13  SDMVPSU   5735 non-null   int64  \n",
      " 14  SDMVSTRA  5735 non-null   int64  \n",
      " 15  INDFMPIR  5134 non-null   float64\n",
      " 16  BPXSY1    5401 non-null   float64\n",
      " 17  BPXDI1    5401 non-null   float64\n",
      " 18  BPXSY2    5535 non-null   float64\n",
      " 19  BPXDI2    5535 non-null   float64\n",
      " 20  BMXWT     5666 non-null   float64\n",
      " 21  BMXHT     5673 non-null   float64\n",
      " 22  BMXBMI    5662 non-null   float64\n",
      " 23  BMXLEG    5345 non-null   float64\n",
      " 24  BMXARML   5427 non-null   float64\n",
      " 25  BMXARMC   5427 non-null   float64\n",
      " 26  BMXWAIST  5368 non-null   float64\n",
      " 27  HIQ210    4732 non-null   float64\n",
      "dtypes: float64(20), int64(8)\n",
      "memory usage: 1.2 MB\n"
     ]
    }
   ],
   "source": [
    "df.info()"
   ]
  },
  {
   "cell_type": "markdown",
   "id": "796a2a1a-effe-4504-9cd3-eef33927929e",
   "metadata": {},
   "source": [
    "---\n",
    "From the above `info` table we can see that our data set contains a total of 5735 rows and 28 columns and that DMDEDUC2 contains 5474 non-null elements"
   ]
  },
  {
   "cell_type": "code",
   "execution_count": 7,
   "id": "4e3b41f1-ea8f-489a-ac80-4d799ccbd533",
   "metadata": {},
   "outputs": [
    {
     "name": "stdout",
     "output_type": "stream",
     "text": [
      "DMDEDUC2 contains 261 empty elements\n"
     ]
    }
   ],
   "source": [
    "nan_in_dmed = df.shape[0] - df.DMDEDUC2.value_counts().sum()\n",
    "print(f'DMDEDUC2 contains {nan_in_dmed} empty elements')"
   ]
  },
  {
   "cell_type": "markdown",
   "id": "42ac5a12-66a7-43a3-b00f-31156ef45da5",
   "metadata": {},
   "source": [
    "Another way to obtain the number of missing values in a given feature:"
   ]
  },
  {
   "cell_type": "code",
   "execution_count": 8,
   "id": "1e0bb49a-4da7-4009-9705-3f3c8a23b76a",
   "metadata": {},
   "outputs": [
    {
     "data": {
      "text/plain": [
       "261"
      ]
     },
     "execution_count": 8,
     "metadata": {},
     "output_type": "execute_result"
    }
   ],
   "source": [
    "pd.isnull(df[\"DMDEDUC2\"]).sum()"
   ]
  },
  {
   "cell_type": "markdown",
   "id": "5fb88aa3-27df-42c3-bed2-916d5d156178",
   "metadata": {},
   "source": [
    "n some cases it is useful to replace integer codes with a text label that reflects the code's meaning. Below we create a new variable called 'DMDEDUC2x' that is recoded with text labels, then we generate its frequency distribution."
   ]
  },
  {
   "cell_type": "code",
   "execution_count": 9,
   "id": "e6a57ae3-6331-4dc8-bb31-455d51342543",
   "metadata": {},
   "outputs": [
    {
     "data": {
      "text/plain": [
       "Some college/AA    1621\n",
       "College            1366\n",
       "HS/GED             1186\n",
       "<9                  655\n",
       "9-11                643\n",
       "Don't know            3\n",
       "Name: DMDEDUC2x, dtype: int64"
      ]
     },
     "execution_count": 9,
     "metadata": {},
     "output_type": "execute_result"
    }
   ],
   "source": [
    "df[\"DMDEDUC2x\"] = df.DMDEDUC2.replace({1: \"<9\", 2: \"9-11\", 3: \"HS/GED\", 4: \"Some college/AA\", 5: \"College\", \n",
    "                                       7: \"Refused\", 9: \"Don't know\"})\n",
    "df.DMDEDUC2x.value_counts()"
   ]
  },
  {
   "cell_type": "code",
   "execution_count": 10,
   "id": "27a1a17d-8226-4b7a-b71e-6b7733bd6375",
   "metadata": {},
   "outputs": [],
   "source": [
    "# we replace genders with words\n",
    "df[\"RIAGENDRx\"] = df.RIAGENDR.replace({1: \"Male\", 2: \"Female\"})"
   ]
  },
  {
   "cell_type": "code",
   "execution_count": 11,
   "id": "7f688ffb-0383-407b-a9cf-b03475a49faa",
   "metadata": {},
   "outputs": [
    {
     "data": {
      "text/plain": [
       "4.000   0.296\n",
       "5.000   0.250\n",
       "3.000   0.217\n",
       "1.000   0.120\n",
       "2.000   0.117\n",
       "9.000   0.001\n",
       "Name: DMDEDUC2, dtype: float64"
      ]
     },
     "execution_count": 11,
     "metadata": {},
     "output_type": "execute_result"
    }
   ],
   "source": [
    "# Value count as proportion\n",
    "df[\"DMDEDUC2\"].value_counts(normalize=True, ascending=False)"
   ]
  },
  {
   "cell_type": "markdown",
   "id": "dca5fe47-abb4-447a-b8c6-0348849cff8a",
   "metadata": {},
   "source": [
    "In some cases we will want to treat the missing response category as another category of observed response, rather than ignoring it when creating summaries. Below we create a new category called \"Missing\","
   ]
  },
  {
   "cell_type": "code",
   "execution_count": 12,
   "id": "d23b7756-3a8a-4b02-ba21-ffcaf235cf4e",
   "metadata": {},
   "outputs": [
    {
     "data": {
      "text/plain": [
       "Some college/AA   0.283\n",
       "College           0.238\n",
       "HS/GED            0.207\n",
       "<9                0.114\n",
       "9-11              0.112\n",
       "Missing           0.046\n",
       "Don't know        0.001\n",
       "Name: DMDEDUC2x, dtype: float64"
      ]
     },
     "execution_count": 12,
     "metadata": {},
     "output_type": "execute_result"
    }
   ],
   "source": [
    "df[\"DMDEDUC2x\"] = df.DMDEDUC2x.fillna(\"Missing\")\n",
    "df[\"DMDEDUC2x\"].value_counts(normalize=True, ascending=False)"
   ]
  },
  {
   "cell_type": "markdown",
   "id": "9b3b1909-6ddf-48f5-b46c-fcd809bff98e",
   "metadata": {},
   "source": [
    "## Numerical Summaries\n",
    "\n",
    "body weight variable (BMXWT)"
   ]
  },
  {
   "cell_type": "code",
   "execution_count": 13,
   "id": "8d7e6c59-60d3-4694-9450-786201bf4fc1",
   "metadata": {},
   "outputs": [
    {
     "data": {
      "text/plain": [
       "count   5,666.000\n",
       "mean       81.343\n",
       "std        21.764\n",
       "min        32.400\n",
       "25%        65.900\n",
       "50%        78.200\n",
       "75%        92.700\n",
       "max       198.900\n",
       "Name: BMXWT, dtype: float64"
      ]
     },
     "execution_count": 13,
     "metadata": {},
     "output_type": "execute_result"
    }
   ],
   "source": [
    "df.BMXWT.describe()"
   ]
  },
  {
   "cell_type": "markdown",
   "id": "0798c3ae-7e65-4e84-a8fd-6b084ebaf137",
   "metadata": {},
   "source": [
    "A person is generally considered to have pre-hypertension when their systolic blood pressure is between 120 and 139, or their diastolic blood pressure is between 80 and 89"
   ]
  },
  {
   "cell_type": "code",
   "execution_count": 14,
   "id": "b28dc68a-8712-4cea-bb7a-df0f7c12cf1c",
   "metadata": {},
   "outputs": [
    {
     "data": {
      "text/plain": [
       "0.3741935483870968"
      ]
     },
     "execution_count": 14,
     "metadata": {},
     "output_type": "execute_result"
    }
   ],
   "source": [
    "np.mean((df.BPXSY1 >= 120) & (df.BPXSY2 <= 139))"
   ]
  },
  {
   "cell_type": "markdown",
   "id": "3f325669-e9e3-4ee4-bd89-1616d45741f9",
   "metadata": {},
   "source": [
    "## Graphical Summaries\n",
    "\n",
    "Below we see the distribution of body weight (in Kg), shown as a histogram. It is evidently right-skewed"
   ]
  },
  {
   "cell_type": "code",
   "execution_count": 15,
   "id": "5fc0d54f-cd27-4d6f-a4a2-6128558dd2e8",
   "metadata": {},
   "outputs": [
    {
     "data": {
      "image/png": "[encoded data removed]",
      "text/plain": [
       "<Figure size 720x576 with 1 Axes>"
      ]
     },
     "metadata": {
      "needs_background": "light"
     },
     "output_type": "display_data"
    }
   ],
   "source": [
    "sns.histplot(df.BMXWT.dropna(), kde=True);"
   ]
  },
  {
   "cell_type": "code",
   "execution_count": 16,
   "id": "0420899a-6070-4b21-afdf-f11adde1f197",
   "metadata": {},
   "outputs": [
    {
     "data": {
      "image/png": "[encoded data removed]",
      "text/plain": [
       "<Figure size 720x576 with 1 Axes>"
      ]
     },
     "metadata": {
      "needs_background": "light"
     },
     "output_type": "display_data"
    }
   ],
   "source": [
    "sns.histplot(df.BPXSY1.dropna(), kde=True);"
   ]
  },
  {
   "cell_type": "markdown",
   "id": "d6feed48-4e60-4b12-a26c-8f33022b836f",
   "metadata": {},
   "source": [
    "To compare several distributions, we can use side-by-side boxplots.  Below we compare the distributions of the first and second systolic blood pressure measurements"
   ]
  },
  {
   "cell_type": "code",
   "execution_count": 17,
   "id": "4202904e-1869-4e83-9f1f-d89a6562e834",
   "metadata": {},
   "outputs": [
    {
     "data": {
      "image/png": "[encoded data removed]",
      "text/plain": [
       "<Figure size 720x576 with 1 Axes>"
      ]
     },
     "metadata": {
      "needs_background": "light"
     },
     "output_type": "display_data"
    }
   ],
   "source": [
    "bp = sns.boxplot(data=df.loc[:, [\"BPXSY1\", \"BPXSY2\", \"BPXDI1\", \"BPXDI2\"]])\n",
    "_ = bp.set_ylabel(\"Blood pressure in mm/Hg\")"
   ]
  },
  {
   "cell_type": "markdown",
   "id": "2140ef67-46fd-42db-b007-8f2a3cb38e63",
   "metadata": {},
   "source": [
    "## Stratification\n",
    "\n",
    "One of the most effective ways to get more information out of a dataset is to divide it into smaller, more uniform subsets, and analyze each of these \"strata\" on its own. We can then compare the findings in the different strata. When working with human subjects, it is very common to stratify on demographic factors such as age, sex, and race.  \n",
    "\n",
    "To illustrate this technique, consider blood pressure, which is a value that tends to increase with age. To see this trend in the NHANES data, we can partition the data into age strata, and construct side-by-side boxplots of the systolic blood pressure (SBP) distribution within each stratum. Since age is a quantitative variable, we need to create a series of \"bins\" of similar SBP values in order to stratify the data. Each box in the figure below is a summary of univariate data within a specific population stratum (here defined by age)."
   ]
  },
  {
   "cell_type": "code",
   "execution_count": 18,
   "id": "45d990f7-0fb5-4dc8-a151-d47a720abb72",
   "metadata": {},
   "outputs": [
    {
     "data": {
      "image/png": "[encoded data removed]",
      "text/plain": [
       "<Figure size 720x576 with 1 Axes>"
      ]
     },
     "metadata": {
      "needs_background": "light"
     },
     "output_type": "display_data"
    }
   ],
   "source": [
    "# Create age strata based on the following cut points\n",
    "df[\"agegrp\"] = pd.cut(df[\"RIDAGEYR\"], [18, 30, 40, 50, 60, 70, 80])\n",
    "# Make boxplot of BPXSY1 stratified by age group\n",
    "sns.boxplot(x=\"agegrp\", y=\"BPXSY1\", data=df);"
   ]
  },
  {
   "cell_type": "markdown",
   "id": "c25a84e7-e2dd-44b0-8b53-2c23a534713c",
   "metadata": {},
   "source": [
    "Taking this a step further, it is also the case that blood pressure tends to differ between women and men. While we could simply make two side-by-side boxplots to illustrate this contrast, it would be a bit odd to ignore age after already having established that it is strongly associated with blood pressure. Therefore, we will doubly stratify the data by gender and age."
   ]
  },
  {
   "cell_type": "code",
   "execution_count": 19,
   "id": "47654145-e766-46f6-ac79-4d9de023eafe",
   "metadata": {},
   "outputs": [
    {
     "data": {
      "image/png": "[encoded data removed]",
      "text/plain": [
       "<Figure size 864x360 with 1 Axes>"
      ]
     },
     "metadata": {
      "needs_background": "light"
     },
     "output_type": "display_data"
    }
   ],
   "source": [
    "df[\"agegrp\"] = pd.cut(df.RIDAGEYR, [18, 30, 40, 50, 60, 70, 80])\n",
    "plt.figure(figsize=(12, 5))\n",
    "sns.boxplot(x=\"agegrp\", y=\"BPXSY1\", hue=\"RIAGENDRx\", data=df);"
   ]
  },
  {
   "cell_type": "markdown",
   "id": "897ffec3-7ef4-4916-978c-e65f89e5ef1d",
   "metadata": {},
   "source": [
    "We see from the figure above that within each gender, older people tend to have higher blood pressure than younger people.  However within an age band, the relationship between gender and systolic blood pressure is somewhat complex -- in younger people, men have substantially higher blood pressures than women of the same age.  However for people older than 50, this relationship becomes much weaker, and among people older than 70 it appears to reverse. It is also notable that the variation of these distributions, reflected in the height of each box in the boxplot, increases with age."
   ]
  },
  {
   "cell_type": "markdown",
   "id": "d16351f9-2884-4b2d-bed7-ed008327493d",
   "metadata": {},
   "source": [
    "When stratifying on two factors (here age and gender), we can group the boxes first by age, and within age bands by gender, as above, or we can do the opposite -- group first by gender, and then within gender group by age bands. Each approach highlights a different aspect of the data."
   ]
  },
  {
   "cell_type": "code",
   "execution_count": 20,
   "id": "a9ac8497-5c3d-4745-b6a9-111b362b1117",
   "metadata": {},
   "outputs": [
    {
     "data": {
      "image/png": "[encoded data removed]",
      "text/plain": [
       "<Figure size 864x360 with 1 Axes>"
      ]
     },
     "metadata": {
      "needs_background": "light"
     },
     "output_type": "display_data"
    }
   ],
   "source": [
    "df['agegrp'] = pd.cut(df.RIDAGEYR, [18, 30, 40, 50, 60, 70, 80])\n",
    "plt.figure(figsize=(12, 5))\n",
    "sns.boxplot(x=\"RIAGENDRx\", y='BPXSY1', hue='agegrp', data=df);"
   ]
  },
  {
   "cell_type": "markdown",
   "id": "47cab417-546f-43de-8e43-2794f3585c7d",
   "metadata": {},
   "source": [
    "Stratification can also be useful when working with categorical variables. Below we look at the frequency distribution of educational attainment (\"DMDEDUC2\") within 10-year age bands"
   ]
  },
  {
   "cell_type": "code",
   "execution_count": 21,
   "id": "750b79ea-b529-4732-a308-2d6846c1dec1",
   "metadata": {},
   "outputs": [
    {
     "data": {
      "text/plain": [
       "agegrp    DMDEDUC2x      \n",
       "(18, 30]  Some college/AA    364\n",
       "          College            278\n",
       "          HS/GED             237\n",
       "          Missing            128\n",
       "          9-11                99\n",
       "          <9                  47\n",
       "(30, 40]  Some college/AA    282\n",
       "          College            264\n",
       "          HS/GED             182\n",
       "          9-11               111\n",
       "          <9                  93\n",
       "(40, 50]  Some college/AA    262\n",
       "          College            260\n",
       "          HS/GED             171\n",
       "          9-11               112\n",
       "          <9                  98\n",
       "(50, 60]  Some college/AA    258\n",
       "          College            220\n",
       "          HS/GED             220\n",
       "          9-11               122\n",
       "          <9                 104\n",
       "(60, 70]  Some college/AA    238\n",
       "          HS/GED             192\n",
       "          College            188\n",
       "          <9                 149\n",
       "          9-11               111\n",
       "(70, 80]  Some college/AA    217\n",
       "          HS/GED             184\n",
       "          <9                 164\n",
       "          College            156\n",
       "          9-11                88\n",
       "          Don't know           3\n",
       "Name: DMDEDUC2x, dtype: int64"
      ]
     },
     "execution_count": 21,
     "metadata": {},
     "output_type": "execute_result"
    }
   ],
   "source": [
    "df.groupby(\"agegrp\")[\"DMDEDUC2x\"].value_counts()"
   ]
  },
  {
   "cell_type": "markdown",
   "id": "8b4b9990-dad5-44b4-b218-e7f02cc7c939",
   "metadata": {},
   "source": [
    "<b>Note on causality and confounding:</b> <mark>An important role of statistics is to aid researchers in identifying causes underlying observed differences. Here we have seen differences in both blood pressure and educational attainment based on age. It is plausible that aging directly causes blood pressure to increase. But in the case of educational attainment, this is actually a \"birth cohort effect\". NHANES is a cross sectional survey (all data for one wave were collected at a single point in time). People who were, say, 65 in 2015 (when these data were collected), were college-aged around 1970, while people who were in their 20's in 2015 were college-aged in around 2010 or later. Over the last few decades, it has become much more common for people to at least begin a college degree than it was in the past. Therefore, younger people as a group have higher educational attainment than older people as a group. As these young people grow older, the cross sectional relationship between age and educational attainment will change.</mark>\n"
   ]
  },
  {
   "cell_type": "code",
   "execution_count": null,
   "id": "fc0eb711-3e7f-47df-9ee9-59d532e7b63f",
   "metadata": {},
   "outputs": [],
   "source": []
  }
 ],
 "metadata": {
  "kernelspec": {
   "display_name": "Python 3",
   "language": "python",
   "name": "python3"
  },
  "language_info": {
   "codemirror_mode": {
    "name": "ipython",
    "version": 3
   },
   "file_extension": ".py",
   "mimetype": "text/x-python",
   "name": "python",
   "nbconvert_exporter": "python",
   "pygments_lexer": "ipython3",
   "version": "3.6.13"
  }
 },
 "nbformat": 4,
 "nbformat_minor": 5
}
