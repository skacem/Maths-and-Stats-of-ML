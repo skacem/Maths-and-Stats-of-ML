{
 "cells": [
  {
   "cell_type": "markdown",
   "id": "eab9d611-e746-4bdb-b155-ec40c00b969c",
   "metadata": {},
   "source": [
    "# Types of Matrices\n",
    "\n",
    "## Transposed Matrix\n",
    "\n",
    "A matrix in which the rows ad columns of $m \\times n$-dimensional matrix $A$ are exchanged is Called A's tranposed matrix and represented by $A^T$\n",
    "\n",
    "$$A_{ij} = A^T_{ji}$$\n"
   ]
  },
  {
   "cell_type": "code",
   "execution_count": 2,
   "id": "cd140134-26ba-4e86-a3bf-177f78eb68c2",
   "metadata": {},
   "outputs": [],
   "source": [
    "import numpy as np"
   ]
  },
  {
   "cell_type": "code",
   "execution_count": 3,
   "id": "c8d8f599-cabe-4ab5-9dca-6b28b33ab604",
   "metadata": {},
   "outputs": [
    {
     "name": "stdout",
     "output_type": "stream",
     "text": [
      "[[2 4 9]\n",
      " [3 6 7]]\n"
     ]
    }
   ],
   "source": [
    "A = np.array([\n",
    "    [2, 4, 9],\n",
    "    [3, 6, 7]\n",
    "])\n",
    "print(A)"
   ]
  },
  {
   "cell_type": "code",
   "execution_count": 4,
   "id": "a0a3fc23-25ad-4a4f-ba28-a5b7291a7a25",
   "metadata": {},
   "outputs": [
    {
     "data": {
      "text/plain": [
       "array([[2, 3],\n",
       "       [4, 6],\n",
       "       [9, 7]])"
      ]
     },
     "execution_count": 4,
     "metadata": {},
     "output_type": "execute_result"
    }
   ],
   "source": [
    "A.T"
   ]
  },
  {
   "cell_type": "code",
   "execution_count": 5,
   "id": "df8db7af-f353-411e-972c-aaded1008490",
   "metadata": {},
   "outputs": [
    {
     "data": {
      "text/plain": [
       "array([[2, 4, 9],\n",
       "       [3, 6, 7]])"
      ]
     },
     "execution_count": 5,
     "metadata": {},
     "output_type": "execute_result"
    }
   ],
   "source": [
    "# Transpose of the transpose matrix becomes the original matrix\n",
    "(A.T).T"
   ]
  },
  {
   "cell_type": "code",
   "execution_count": 6,
   "id": "ec8d299f-40a6-4401-811d-233fc1c4cab6",
   "metadata": {},
   "outputs": [
    {
     "data": {
      "text/plain": [
       "array([[ 6, -2, -6],\n",
       "       [-8, -4, -8],\n",
       "       [ 8, -9, -6]])"
      ]
     },
     "execution_count": 6,
     "metadata": {},
     "output_type": "execute_result"
    }
   ],
   "source": [
    "B = np.random.randint(-10, 10, (3,3))\n",
    "B"
   ]
  },
  {
   "cell_type": "code",
   "execution_count": 7,
   "id": "84795239-5ac9-4591-b544-4440df25e404",
   "metadata": {},
   "outputs": [
    {
     "data": {
      "text/plain": [
       "array([[  52, -101,  -98],\n",
       "       [  26,  -93, -108]])"
      ]
     },
     "execution_count": 7,
     "metadata": {},
     "output_type": "execute_result"
    }
   ],
   "source": [
    "A @ B"
   ]
  },
  {
   "cell_type": "code",
   "execution_count": 8,
   "id": "d8a45da5-a10c-4405-9acd-af2ef2b62336",
   "metadata": {},
   "outputs": [
    {
     "data": {
      "text/plain": [
       "array([[ True,  True],\n",
       "       [ True,  True],\n",
       "       [ True,  True]])"
      ]
     },
     "execution_count": 8,
     "metadata": {},
     "output_type": "execute_result"
    }
   ],
   "source": [
    "# transpose of the matrix product between two matrices:\n",
    "(A @ B).T == B.T @ A.T"
   ]
  },
  {
   "cell_type": "markdown",
   "id": "50b08973-e378-4c2d-bcac-22ab820342d3",
   "metadata": {},
   "source": [
    "## Square Matrix\n",
    "\n"
   ]
  },
  {
   "cell_type": "code",
   "execution_count": 9,
   "id": "99c63715-02a2-4482-a862-3a55e6439453",
   "metadata": {},
   "outputs": [
    {
     "data": {
      "text/plain": [
       "array([[1, 2, 3],\n",
       "       [4, 5, 6],\n",
       "       [7, 8, 9]])"
      ]
     },
     "execution_count": 9,
     "metadata": {},
     "output_type": "execute_result"
    }
   ],
   "source": [
    "A= np.array([\n",
    "    [1,2,3],\n",
    "    [4,5,6],\n",
    "    [7,8,9]])\n",
    "A"
   ]
  },
  {
   "cell_type": "code",
   "execution_count": 10,
   "id": "3bddbd2b-fb73-498c-9098-796c37c88151",
   "metadata": {},
   "outputs": [],
   "source": [
    "# extract diagonal vector\n",
    "d = np.diag(A)"
   ]
  },
  {
   "cell_type": "code",
   "execution_count": 11,
   "id": "6ecf70a2-b9ee-4ba1-bb9c-f7b211aa3472",
   "metadata": {},
   "outputs": [
    {
     "data": {
      "text/plain": [
       "array([1, 5, 9])"
      ]
     },
     "execution_count": 11,
     "metadata": {},
     "output_type": "execute_result"
    }
   ],
   "source": [
    "d"
   ]
  },
  {
   "cell_type": "code",
   "execution_count": 15,
   "id": "7f1a5732-3b9d-45c2-9d59-72f1ea2a3096",
   "metadata": {},
   "outputs": [
    {
     "data": {
      "text/plain": [
       "15"
      ]
     },
     "execution_count": 15,
     "metadata": {},
     "output_type": "execute_result"
    }
   ],
   "source": [
    "# Trace of a matrix\n",
    "np.trace(A)"
   ]
  },
  {
   "cell_type": "markdown",
   "id": "07fc0c37-699b-453d-bf4d-8523a2351c4d",
   "metadata": {},
   "source": [
    "## Identity Matrix\n",
    "\n",
    "The identity matrix is a matrix in which the diagonal elements are all 1 and all other elements are 0"
   ]
  },
  {
   "cell_type": "code",
   "execution_count": 14,
   "id": "6c572a91-01b7-4580-af4c-a6e7dea61277",
   "metadata": {},
   "outputs": [
    {
     "data": {
      "text/plain": [
       "array([[1., 0., 0., 0.],\n",
       "       [0., 1., 0., 0.],\n",
       "       [0., 0., 1., 0.],\n",
       "       [0., 0., 0., 1.]])"
      ]
     },
     "execution_count": 14,
     "metadata": {},
     "output_type": "execute_result"
    }
   ],
   "source": [
    "I = np.identity(4)\n",
    "I"
   ]
  },
  {
   "cell_type": "code",
   "execution_count": 13,
   "id": "05511df1-5544-4528-8a9e-e96b3bbbe018",
   "metadata": {},
   "outputs": [
    {
     "data": {
      "text/plain": [
       "array([[1., 0., 0., 0.],\n",
       "       [0., 1., 0., 0.],\n",
       "       [0., 0., 1., 0.],\n",
       "       [0., 0., 0., 1.]])"
      ]
     },
     "execution_count": 13,
     "metadata": {},
     "output_type": "execute_result"
    }
   ],
   "source": [
    "I"
   ]
  },
  {
   "cell_type": "markdown",
   "id": "e30f7617-83b7-4665-b836-96482185dbe1",
   "metadata": {},
   "source": [
    "## Diagonal Matrix"
   ]
  },
  {
   "cell_type": "code",
   "execution_count": 16,
   "id": "86b7b1ef-2094-41ea-9182-af06ae511088",
   "metadata": {},
   "outputs": [
    {
     "data": {
      "text/plain": [
       "array([[1, 0, 0],\n",
       "       [0, 2, 0],\n",
       "       [0, 0, 3]])"
      ]
     },
     "execution_count": 16,
     "metadata": {},
     "output_type": "execute_result"
    }
   ],
   "source": [
    "np.diag([1, 2, 3])"
   ]
  },
  {
   "cell_type": "markdown",
   "id": "2d7b9491-40a0-42d6-b1cc-149fa8a82df6",
   "metadata": {},
   "source": [
    "## Triangular Matrix\n",
    "The triangular matrix can be divided into a lower triangular matrix and an upper triangular matrix based on the diagonal elements of the matrix."
   ]
  },
  {
   "cell_type": "code",
   "execution_count": 19,
   "id": "a78d5546-64dd-448f-aa14-7ebc99971033",
   "metadata": {},
   "outputs": [
    {
     "data": {
      "text/plain": [
       "array([[8, 8, 7, 6, 2],\n",
       "       [5, 7, 1, 3, 1],\n",
       "       [6, 5, 3, 6, 7],\n",
       "       [7, 6, 4, 1, 8],\n",
       "       [5, 2, 6, 6, 3]])"
      ]
     },
     "execution_count": 19,
     "metadata": {},
     "output_type": "execute_result"
    }
   ],
   "source": [
    "x = np.random.randint(1, 9, 25).reshape((5,5))\n",
    "x"
   ]
  },
  {
   "cell_type": "code",
   "execution_count": 20,
   "id": "ae980b9b-28af-463d-9ab4-23da2cc61957",
   "metadata": {},
   "outputs": [
    {
     "data": {
      "text/plain": [
       "array([[8, 8, 7, 6, 2],\n",
       "       [0, 7, 1, 3, 1],\n",
       "       [0, 0, 3, 6, 7],\n",
       "       [0, 0, 0, 1, 8],\n",
       "       [0, 0, 0, 0, 3]])"
      ]
     },
     "execution_count": 20,
     "metadata": {},
     "output_type": "execute_result"
    }
   ],
   "source": [
    "# Upper triangular Matrix\n",
    "np.triu(x)"
   ]
  },
  {
   "cell_type": "code",
   "execution_count": 21,
   "id": "936b00dd-defd-411c-ba13-596cb8e5533a",
   "metadata": {},
   "outputs": [
    {
     "data": {
      "text/plain": [
       "array([[8, 0, 0, 0, 0],\n",
       "       [5, 7, 0, 0, 0],\n",
       "       [6, 5, 3, 0, 0],\n",
       "       [7, 6, 4, 1, 0],\n",
       "       [5, 2, 6, 6, 3]])"
      ]
     },
     "execution_count": 21,
     "metadata": {},
     "output_type": "execute_result"
    }
   ],
   "source": [
    "# Lower triangular matrix\n",
    "np.tril(x)"
   ]
  },
  {
   "cell_type": "code",
   "execution_count": 24,
   "id": "6aa065e7-104b-475b-99ef-038ea21bef4f",
   "metadata": {},
   "outputs": [
    {
     "data": {
      "text/plain": [
       "array([[0, 8, 7, 6, 2],\n",
       "       [0, 0, 1, 3, 1],\n",
       "       [0, 0, 0, 6, 7],\n",
       "       [0, 0, 0, 0, 8],\n",
       "       [0, 0, 0, 0, 0]])"
      ]
     },
     "execution_count": 24,
     "metadata": {},
     "output_type": "execute_result"
    }
   ],
   "source": [
    "np.triu(x, k=1)"
   ]
  },
  {
   "cell_type": "markdown",
   "id": "9dea61dd-ee5c-4b4d-997b-e94ac578e060",
   "metadata": {},
   "source": [
    "The triangular matrix has the following characteristics:\n",
    "\n",
    "* The transposed matrix of the lower triangular matrix becomes the upper triangular matrix and vice versa"
   ]
  },
  {
   "cell_type": "code",
   "execution_count": 25,
   "id": "3f0411d1-c4c6-4a43-af02-effe639e8ade",
   "metadata": {},
   "outputs": [
    {
     "data": {
      "text/plain": [
       "array([[8, 8, 7, 6, 2],\n",
       "       [0, 7, 1, 3, 1],\n",
       "       [0, 0, 3, 6, 7],\n",
       "       [0, 0, 0, 1, 8],\n",
       "       [0, 0, 0, 0, 3]])"
      ]
     },
     "execution_count": 25,
     "metadata": {},
     "output_type": "execute_result"
    }
   ],
   "source": [
    "tu = np.triu(x)\n",
    "tu"
   ]
  },
  {
   "cell_type": "code",
   "execution_count": 26,
   "id": "8eebbcea-9b19-4930-b070-6b6cdb1d9b32",
   "metadata": {},
   "outputs": [
    {
     "data": {
      "text/plain": [
       "array([[8, 0, 0, 0, 0],\n",
       "       [8, 7, 0, 0, 0],\n",
       "       [7, 1, 3, 0, 0],\n",
       "       [6, 3, 6, 1, 0],\n",
       "       [2, 1, 7, 8, 3]])"
      ]
     },
     "execution_count": 26,
     "metadata": {},
     "output_type": "execute_result"
    }
   ],
   "source": [
    "tu.T"
   ]
  },
  {
   "cell_type": "markdown",
   "id": "45595a81-c36b-4486-b994-6d4f3cea4617",
   "metadata": {},
   "source": [
    "* If the diagonal elements of the triangular matrix are all 0, it becomes an irreversible matrix."
   ]
  },
  {
   "cell_type": "markdown",
   "id": "87f3f6ee-7421-4073-a41e-227ef6068551",
   "metadata": {},
   "source": [
    "## Symmetric Matrix\n",
    "\n",
    "It is a square matrix that shows a symmetric relationship with respect to the main diagonal element."
   ]
  },
  {
   "cell_type": "code",
   "execution_count": 29,
   "id": "1b972311-9b53-4ef4-8a72-5dc5d368fb07",
   "metadata": {},
   "outputs": [
    {
     "data": {
      "text/plain": [
       "array([[69. , 45.5, 31.5, 75.5],\n",
       "       [45.5, 52. , 57.5, 52.5],\n",
       "       [31.5, 57.5, 25. , 66.5],\n",
       "       [75.5, 52.5, 66.5, 54. ]])"
      ]
     },
     "execution_count": 29,
     "metadata": {},
     "output_type": "execute_result"
    }
   ],
   "source": [
    "N = 4\n",
    "b = np.random.randint(0,100,size=(N,N))\n",
    "b_symm = (b + b.T)/2\n",
    "b_symm"
   ]
  },
  {
   "cell_type": "markdown",
   "id": "d09ccd7a-f2d8-4a08-9c1a-fae6b30a8928",
   "metadata": {},
   "source": [
    "Or we can use numpy's triu(A) and tril(A) functions, to create an upper and lower triangular matrix based on matrix A."
   ]
  },
  {
   "cell_type": "code",
   "execution_count": 31,
   "id": "39bc4436-c2e9-4cd1-a62c-adbeea123b66",
   "metadata": {},
   "outputs": [
    {
     "data": {
      "text/plain": [
       "array([[162,  19,  83,  59],\n",
       "       [ 19,  14,  76,  59],\n",
       "       [ 83,  76, 102,  17],\n",
       "       [ 59,  59,  17,   6]])"
      ]
     },
     "execution_count": 31,
     "metadata": {},
     "output_type": "execute_result"
    }
   ],
   "source": [
    "x = np.random.randint(0, 100, (N,N))\n",
    "A = np.triu(x) + np.triu(x).T\n",
    "A"
   ]
  },
  {
   "cell_type": "code",
   "execution_count": 32,
   "id": "ff7217ae-222a-40c6-a75e-58a3a2246852",
   "metadata": {},
   "outputs": [
    {
     "data": {
      "text/plain": [
       "array([[ 88,  93,  74,  85],\n",
       "       [ 93, 112,  77,  66],\n",
       "       [ 74,  77,  32,  63],\n",
       "       [ 85,  66,  63,  72]])"
      ]
     },
     "execution_count": 32,
     "metadata": {},
     "output_type": "execute_result"
    }
   ],
   "source": [
    "y = np.random.randint(0, 100, (N,N))\n",
    "B = np.tril(y) + np.tril(y).T\n",
    "B"
   ]
  },
  {
   "cell_type": "markdown",
   "id": "e0778ae3-70aa-4b6a-bdd8-54c6462cb38f",
   "metadata": {},
   "source": [
    "* The two symmetric matrices A ± B are symmetric matrices.\n",
    "* If A is a reversible (matrix having an inverse matrix) symmetric matrix, then $A^{-1}$ is also a symmetric matrix."
   ]
  },
  {
   "cell_type": "code",
   "execution_count": 35,
   "id": "a1afcb6a-ec15-4811-aeac-8b469e389448",
   "metadata": {},
   "outputs": [
    {
     "data": {
      "text/plain": [
       "array([[-0.06421624,  0.01404752,  0.01273495,  0.05179087],\n",
       "       [ 0.01404752,  0.01173654,  0.00954208, -0.03569168],\n",
       "       [ 0.01273495,  0.00954208, -0.03550662,  0.00728707],\n",
       "       [ 0.05179087, -0.03569168,  0.00728707, -0.02091192]])"
      ]
     },
     "execution_count": 35,
     "metadata": {},
     "output_type": "execute_result"
    }
   ],
   "source": [
    "B_inv = np.linalg.inv(B)\n",
    "B_inv"
   ]
  },
  {
   "cell_type": "code",
   "execution_count": 45,
   "id": "1b2171ee-8a18-4095-8ed0-d8e9b951422a",
   "metadata": {},
   "outputs": [
    {
     "data": {
      "text/plain": [
       "array([[0., 0., 0., 0.],\n",
       "       [0., 0., 0., 0.],\n",
       "       [0., 0., 0., 0.],\n",
       "       [0., 0., 0., 0.]])"
      ]
     },
     "execution_count": 45,
     "metadata": {},
     "output_type": "execute_result"
    }
   ],
   "source": [
    "np.around(np.abs(np.tril(B_inv) - np.triu(B_inv).T))"
   ]
  },
  {
   "cell_type": "code",
   "execution_count": null,
   "id": "83a4ed19-279f-4e4a-a03c-b88e3613df8a",
   "metadata": {},
   "outputs": [],
   "source": []
  }
 ],
 "metadata": {
  "kernelspec": {
   "display_name": "Python 3",
   "language": "python",
   "name": "python3"
  },
  "language_info": {
   "codemirror_mode": {
    "name": "ipython",
    "version": 3
   },
   "file_extension": ".py",
   "mimetype": "text/x-python",
   "name": "python",
   "nbconvert_exporter": "python",
   "pygments_lexer": "ipython3",
   "version": "3.6.13"
  }
 },
 "nbformat": 4,
 "nbformat_minor": 5
}
