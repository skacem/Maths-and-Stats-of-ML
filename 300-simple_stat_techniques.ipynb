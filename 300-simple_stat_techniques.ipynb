{
 "cells": [
  {
   "cell_type": "markdown",
   "id": "019b5e33-5d27-4058-baf5-92cc4ddda57d",
   "metadata": {},
   "source": [
    "# Simple Statistical Techniques for Univariate and Bivariate Analyses\n",
    "\n",
    "## Pearson Product-Moment Correlation\n",
    "\n",
    "The Pearson Product-Moment correlation is a measure of the **linear relationship** between two variables. It is calculated as the covariance of the two variables divided by the product of the standard deviation of each data sample.\n",
    "$$ r = \\frac{\\sum^N_{i=1}(x_i -\\bar{x})(y_i - \\bar{y})}{N-1}.\\frac{1}{S_x.S_y} = \\frac{cov_{xy}}{S_x.S_y}$$\n",
    "The Pearson correlation coefficient is, in effect, a ratio, and the resulting number reflects a dimensionless relationship between $x_i$ and $y_i$.  \n",
    "\n",
    "<div class=\"alert alert-block alert-warning\">\n",
    "A Pearson correlation of zero in the sample does not imply a zero relationship in the data. \n",
    "</div>\n",
    "Two variables may be related, sometimes strongly so, but not necessarily linearly. Pearson’s correlation will only reflect the degree (or non-degree) that variables are linearly related. Its magnitude will not account for non-linear trends.\n",
    "<div class=\"alert alert-block alert-info\">\n",
    "Always ask about the distribution on which any statistic is computed so you can put that statistic in context of the elements on which it was computed.</div>\n"
   ]
  },
  {
   "cell_type": "markdown",
   "id": "27d23755-0a0a-43d4-9c08-01ac4761ed9a",
   "metadata": {},
   "source": [
    "## Spearman's Rho\n",
    "\n",
    "If the relationship between variables is **non-linear**, one may choose to compute a coefficient that will account for the non-linearity, such as the Spearman's coefficitient. Spearman’s rho reflects the relationship between two variables, but is not restricted to that relationship necessarily being linear in form. It may be linear, but it need not be for Spearman’s rho to still be quite large."
   ]
  },
  {
   "cell_type": "code",
   "execution_count": 142,
   "id": "f3fdb534-67c0-44f3-919b-cba1cb2d2556",
   "metadata": {},
   "outputs": [],
   "source": [
    "import pandas as pd\n",
    "import scipy.stats\n",
    "import numpy as np\n",
    "import matplotlib.pyplot as plt\n",
    "import seaborn as sns\n",
    "plt.style.use('ggplot')"
   ]
  },
  {
   "cell_type": "code",
   "execution_count": 145,
   "id": "9bfc4e4c-73c7-4a77-8002-03db3e2fa02d",
   "metadata": {},
   "outputs": [],
   "source": [
    "x = np.linspace(1, 5, 8)\n",
    "y = 1/(1+np.exp(-x-3))\n",
    "df = pd.DataFrame(x, y)"
   ]
  },
  {
   "cell_type": "code",
   "execution_count": 146,
   "id": "35c9c8c4-d026-492e-9114-541bd1c89ea0",
   "metadata": {},
   "outputs": [
    {
     "data": {
      "image/png": "[encoded data removed]",
      "text/plain": [
       "<Figure size 432x288 with 1 Axes>"
      ]
     },
     "metadata": {},
     "output_type": "display_data"
    }
   ],
   "source": [
    "plt.scatter(x, y);"
   ]
  },
  {
   "cell_type": "code",
   "execution_count": 147,
   "id": "280939f7-ad80-4dad-b893-92bece4580f6",
   "metadata": {},
   "outputs": [
    {
     "data": {
      "text/plain": [
       "(0.8866244032787165, 0.0033405581561596854)"
      ]
     },
     "execution_count": 147,
     "metadata": {},
     "output_type": "execute_result"
    }
   ],
   "source": [
    "scipy.stats.pearsonr(x,y)"
   ]
  },
  {
   "cell_type": "code",
   "execution_count": 148,
   "id": "3d021e70-fc4b-43d5-9569-5978abc24641",
   "metadata": {},
   "outputs": [
    {
     "data": {
      "text/plain": [
       "SpearmanrResult(correlation=1.0, pvalue=0.0)"
      ]
     },
     "execution_count": 148,
     "metadata": {},
     "output_type": "execute_result"
    }
   ],
   "source": [
    "scipy.stats.spearmanr(x,y)"
   ]
  },
  {
   "cell_type": "markdown",
   "id": "e5036346-b6d0-4b1e-ac03-154d88f1be83",
   "metadata": {},
   "source": [
    "We can see that Spearman’s rho is equal to 1.0 an is statistically  significant, while the Pearson $r$ is slightly less than 0.90.  \n",
    "While, Spearman’s measures, the monotonic increase in one variable as a function of another, regardless of whether or not the relationship is linear. The Pearson assesses linearity, and hence the correlation will be less."
   ]
  },
  {
   "cell_type": "markdown",
   "id": "6f5924d5-487c-4158-9bae-4f6e946b910b",
   "metadata": {},
   "source": [
    "Pearson tries to essen- tially fit a line through the scatter, which of course does not fit very well since the scatter is a bit messy. Spearman, on the other hand, attempts to assess whether an increase in x goes with an increase in y, which for these data it does so perfectly."
   ]
  },
  {
   "cell_type": "markdown",
   "id": "fe4f924a-3a40-421f-b2a7-c073394afba6",
   "metadata": {},
   "source": [
    "## General Comments on Correlation\n",
    "\n",
    "* Interpretation-wise, correlation is perhaps one of the most abused statistics computed on data and the most misinterpreted.\n",
    "* Virtually everything in nature is correlated to some degree\n",
    "* A statistically significant correla- tion is that there is evidence to suggest that the true correlation in the population from which the data were drawn is not equal to zero. That’s it! A statistically significant correlation does not somehow imply, by itself, that the correlation is large, nor does it even imply the correlation is important\n",
    "*  The correlation itself is simply a mathematical abstraction. The computation does not know anything about the “real” empirical objects you are applying the correlation to.\n",
    "* Consider a correlation of 0.5. When squared, it explains only $25%$ of the variance. . That is, when we square the Pearson correlation coefficient, we obtain a measure of the amount of variance explained:\n",
    "$$ r^2 = \\text{proportion of variance explained}$$\n",
    "* It is only the humble scientist who acknowledges that $75%$ of the variance is still a mystery. Indeed, $1−r^2$ should be called the coefficient of humility. \n",
    "* Rejecting a null hypothesis that the population correlation coefficient is equal to 0 may not be a very impressive result, especially if a correlation greater than 0 would have naturally been expected due to chance anyway"
   ]
  },
  {
   "cell_type": "code",
   "execution_count": null,
   "id": "2d37ac1a-aa48-4231-9287-939d29a10550",
   "metadata": {},
   "outputs": [],
   "source": []
  },
  {
   "cell_type": "code",
   "execution_count": null,
   "id": "3240cc09-218f-427f-9e84-a519aa94bc55",
   "metadata": {},
   "outputs": [],
   "source": []
  },
  {
   "cell_type": "markdown",
   "id": "734c3e4c-7653-42bd-b12e-5aa2426a785a",
   "metadata": {},
   "source": [
    "**Confounding Variable**:  A confounding variable is an outside influence that changes the relationship between the independent and the dependent variable.  It oftentimes works by affecting the causal relationship between the primary independent variable and the dependent variable.  This confounding variable confuses the relationship between two other variables; it may act by hiding, obscuring, or enhancing the existing relationship."
   ]
  }
 ],
 "metadata": {
  "kernelspec": {
   "display_name": "Python 3",
   "language": "python",
   "name": "python3"
  },
  "language_info": {
   "codemirror_mode": {
    "name": "ipython",
    "version": 3
   },
   "file_extension": ".py",
   "mimetype": "text/x-python",
   "name": "python",
   "nbconvert_exporter": "python",
   "pygments_lexer": "ipython3",
   "version": "3.6.13"
  }
 },
 "nbformat": 4,
 "nbformat_minor": 5
}
