{
 "cells": [
  {
   "cell_type": "code",
   "execution_count": 1,
   "id": "44b7dc89-6891-4b61-8dfd-daad905a1af8",
   "metadata": {},
   "outputs": [],
   "source": [
    "# Imports:\n",
    "import pandas as pd\n",
    "import numpy as np\n",
    "\n",
    "from IPython.display import YouTubeVideo\n",
    "\n",
    "# Disable jedi autocompleter\n",
    "%config Completer.use_jedi = False\n",
    "\n",
    "%precision %.2f\n",
    "pd.options.display.float_format = '{:,.2f}'.format\n"
   ]
  },
  {
   "cell_type": "markdown",
   "id": "891ca552-7e1e-4c59-a204-337847a2a657",
   "metadata": {},
   "source": [
    "# Simpson's Paradox\n",
    "\n",
    "> Datasets look different at granularities\n",
    "\n",
    "\n",
    "Simpson's Paradox is an interesting statistical property that arises when you arrive at misleading conclusions due to overlooking confounding variables in your data.  \n",
    "Ultimately, the only way to overcome the paradox is a thorough understanding of your data and that it represents.\n",
    "\n",
    "Watch the following video if you want to gain some intuition with simple examples:"
   ]
  },
  {
   "cell_type": "code",
   "execution_count": 14,
   "id": "bd510865-e625-4520-bbf6-9a97b68676cd",
   "metadata": {},
   "outputs": [
    {
     "data": {
      "image/jpeg": "[encoded data removed]",
      "text/html": [
       "\n",
       "        <iframe\n",
       "            width=\"400\"\n",
       "            height=\"300\"\n",
       "            src=\"https://www.youtube.com/embed/ebEkn-BiW5k\"\n",
       "            frameborder=\"0\"\n",
       "            allowfullscreen\n",
       "        ></iframe>\n",
       "        "
      ],
      "text/plain": [
       "<IPython.lib.display.YouTubeVideo at 0x7f986f776320>"
      ]
     },
     "execution_count": 14,
     "metadata": {},
     "output_type": "execute_result"
    }
   ],
   "source": [
    "YouTubeVideo(\"ebEkn-BiW5k\")"
   ]
  },
  {
   "cell_type": "markdown",
   "id": "a9474cbb-3e71-411f-b9e2-f2a57df33e6c",
   "metadata": {},
   "source": [
    "## What is it? And Why is it important?\n",
    "\n",
    "* Simpson's paradox, also called Yule-Simpson effect, in statistics. It is an effect that occurs when the marginal association between two categorical variables is qualitatively different from the partial association between the same two variables after controlling for one or more other variables.\n",
    "\n",
    "Simpson's paradox is important for three critical reasons:  \n",
    "1. People often expect statistical relationships to be immutable. They often are not. The relationship between two variables might increase, decrease, or even change direction depending on the set of variables being controlled.\n",
    "2. Simpson’s paradox is not simply an obscure phenomenon of interest only to a small group of statisticians. Simpson’s paradox is actually one of a large class of association paradoxes.\n",
    "3. Simpson’s paradox reminds researchers that causal inferences, particularly in nonexperimental studies, can be hazardous. Uncontrolled and even unobserved variables that would eliminate or reverse the association observed between two variables might exist."
   ]
  },
  {
   "cell_type": "markdown",
   "id": "26e31705-853a-4a9d-9475-91c9659d23b3",
   "metadata": {},
   "source": [
    "<img src=\"https://upload.wikimedia.org/wikipedia/commons/f/fb/Simpsons_paradox_-_animation.gif\" style=\"zoom:70%\" alt=\"Simpson's paradox\" />\n",
    "\n",
    "> Simpson's paradox for quantitative data: a positive trend  appears for separate groups, whereas a negative trend  appears when the groups are combined. Visualization of Simpson's paradox on data resembling real-world variability indicates that risk of misjudgement of true relationship can be hard to spot -- Wiki"
   ]
  },
  {
   "cell_type": "markdown",
   "id": "ac96d2e5-214e-45a1-a718-472a405352ac",
   "metadata": {},
   "source": [
    "## Gender Bias In Graduate School Admissions\n",
    "\n",
    "One of the best-known examples of Simpson's paradox comes from a study of gender bias among graduate school admissions to University of California, Berkeley. The admission figures for the fall of 1973 showed that men applying were more likely than women to be admitted, and the difference was so large that it was unlikely to be due to chance.\n",
    "\n",
    "Imagine you're analyzing gender differences in a university's admissions rate for graduate programs. You compute the proportion of successful female applicants and compare it to the proportion of successful male applicants, and get the following numbers:"
   ]
  },
  {
   "cell_type": "code",
   "execution_count": 2,
   "id": "ee5174ef-7689-473f-9f32-8b053def5109",
   "metadata": {},
   "outputs": [
    {
     "data": {
      "text/html": [
       "<div>\n",
       "<style scoped>\n",
       "    .dataframe tbody tr th:only-of-type {\n",
       "        vertical-align: middle;\n",
       "    }\n",
       "\n",
       "    .dataframe tbody tr th {\n",
       "        vertical-align: top;\n",
       "    }\n",
       "\n",
       "    .dataframe thead th {\n",
       "        text-align: right;\n",
       "    }\n",
       "</style>\n",
       "<table border=\"1\" class=\"dataframe\">\n",
       "  <thead>\n",
       "    <tr style=\"text-align: right;\">\n",
       "      <th></th>\n",
       "      <th>student_id</th>\n",
       "      <th>gender</th>\n",
       "      <th>major</th>\n",
       "      <th>admitted</th>\n",
       "    </tr>\n",
       "  </thead>\n",
       "  <tbody>\n",
       "    <tr>\n",
       "      <th>0</th>\n",
       "      <td>35377</td>\n",
       "      <td>female</td>\n",
       "      <td>Chemistry</td>\n",
       "      <td>False</td>\n",
       "    </tr>\n",
       "    <tr>\n",
       "      <th>1</th>\n",
       "      <td>56105</td>\n",
       "      <td>male</td>\n",
       "      <td>Physics</td>\n",
       "      <td>True</td>\n",
       "    </tr>\n",
       "    <tr>\n",
       "      <th>2</th>\n",
       "      <td>31441</td>\n",
       "      <td>female</td>\n",
       "      <td>Chemistry</td>\n",
       "      <td>False</td>\n",
       "    </tr>\n",
       "    <tr>\n",
       "      <th>3</th>\n",
       "      <td>51765</td>\n",
       "      <td>male</td>\n",
       "      <td>Physics</td>\n",
       "      <td>True</td>\n",
       "    </tr>\n",
       "    <tr>\n",
       "      <th>4</th>\n",
       "      <td>53714</td>\n",
       "      <td>female</td>\n",
       "      <td>Physics</td>\n",
       "      <td>True</td>\n",
       "    </tr>\n",
       "  </tbody>\n",
       "</table>\n",
       "</div>"
      ],
      "text/plain": [
       "   student_id  gender      major  admitted\n",
       "0       35377  female  Chemistry     False\n",
       "1       56105    male    Physics      True\n",
       "2       31441  female  Chemistry     False\n",
       "3       51765    male    Physics      True\n",
       "4       53714  female    Physics      True"
      ]
     },
     "execution_count": 2,
     "metadata": {},
     "output_type": "execute_result"
    }
   ],
   "source": [
    "# Load the data\n",
    "data = pd.read_csv('data/admission_data.csv')\n",
    "data.head()"
   ]
  },
  {
   "cell_type": "code",
   "execution_count": 3,
   "id": "164927b9-8d58-4842-8d20-f005a24612dd",
   "metadata": {},
   "outputs": [
    {
     "name": "stdout",
     "output_type": "stream",
     "text": [
      "Total number of applicants: 500\n"
     ]
    }
   ],
   "source": [
    "# Total number of applicants\n",
    "admission_count = data.shape[0]\n",
    "print(f\"Total number of applicants: {admission_count}\")"
   ]
  },
  {
   "cell_type": "code",
   "execution_count": 24,
   "id": "2d2e6678-113f-47a1-8f6a-6d870853aa83",
   "metadata": {},
   "outputs": [],
   "source": [
    "# Create a new dataframe\n",
    "df = pd.DataFrame()\n",
    "# Number of applicants per gender\n",
    "df['application'] = data.groupby('gender').count()['student_id']\n",
    "# Rate of applicants per gender\n",
    "df['%-application'] = df['application']/admission_count\n",
    "# Number of admitted per gender\n",
    "df['admission'] = data.query('admitted == True').groupby(['gender']).count()['admitted']\n",
    "# Rate of admitted per gender\n",
    "df['%-admission'] = df['admission']/df['application']"
   ]
  },
  {
   "cell_type": "code",
   "execution_count": 25,
   "id": "c877350f-a70c-4588-b6f5-80bc85b6d38a",
   "metadata": {},
   "outputs": [
    {
     "data": {
      "text/html": [
       "<div>\n",
       "<style scoped>\n",
       "    .dataframe tbody tr th:only-of-type {\n",
       "        vertical-align: middle;\n",
       "    }\n",
       "\n",
       "    .dataframe tbody tr th {\n",
       "        vertical-align: top;\n",
       "    }\n",
       "\n",
       "    .dataframe thead th {\n",
       "        text-align: right;\n",
       "    }\n",
       "</style>\n",
       "<table border=\"1\" class=\"dataframe\">\n",
       "  <thead>\n",
       "    <tr style=\"text-align: right;\">\n",
       "      <th></th>\n",
       "      <th>application</th>\n",
       "      <th>%-application</th>\n",
       "      <th>admission</th>\n",
       "      <th>%-admission</th>\n",
       "    </tr>\n",
       "    <tr>\n",
       "      <th>gender</th>\n",
       "      <th></th>\n",
       "      <th></th>\n",
       "      <th></th>\n",
       "      <th></th>\n",
       "    </tr>\n",
       "  </thead>\n",
       "  <tbody>\n",
       "    <tr>\n",
       "      <th>female</th>\n",
       "      <td>257</td>\n",
       "      <td>0.51</td>\n",
       "      <td>74</td>\n",
       "      <td>0.29</td>\n",
       "    </tr>\n",
       "    <tr>\n",
       "      <th>male</th>\n",
       "      <td>243</td>\n",
       "      <td>0.49</td>\n",
       "      <td>118</td>\n",
       "      <td>0.49</td>\n",
       "    </tr>\n",
       "  </tbody>\n",
       "</table>\n",
       "</div>"
      ],
      "text/plain": [
       "        application  %-application  admission  %-admission\n",
       "gender                                                    \n",
       "female          257           0.51         74         0.29\n",
       "male            243           0.49        118         0.49"
      ]
     },
     "execution_count": 25,
     "metadata": {},
     "output_type": "execute_result"
    }
   ],
   "source": [
    "df"
   ]
  },
  {
   "cell_type": "markdown",
   "id": "cc381be0-2e56-4c81-8353-a684b3b2c8c2",
   "metadata": {},
   "source": [
    "From the table above you can see that females are less likely to get admitted than males. Indeed only 29% of the female applicants were admitted, while almost 50% of all male applicants were admitted.  \n",
    "Intrigued, you decide to dig deeper, and compute the proportion of successful applicants of each graduate program per gender separately. Then you get the following table:"
   ]
  },
  {
   "cell_type": "code",
   "execution_count": 26,
   "id": "3d70282e-895b-4a18-b7a0-0dda338c1ea8",
   "metadata": {},
   "outputs": [
    {
     "data": {
      "text/html": [
       "<div>\n",
       "<style scoped>\n",
       "    .dataframe tbody tr th:only-of-type {\n",
       "        vertical-align: middle;\n",
       "    }\n",
       "\n",
       "    .dataframe tbody tr th {\n",
       "        vertical-align: top;\n",
       "    }\n",
       "\n",
       "    .dataframe thead th {\n",
       "        text-align: right;\n",
       "    }\n",
       "</style>\n",
       "<table border=\"1\" class=\"dataframe\">\n",
       "  <thead>\n",
       "    <tr style=\"text-align: right;\">\n",
       "      <th></th>\n",
       "      <th></th>\n",
       "      <th>application</th>\n",
       "      <th>admission</th>\n",
       "      <th>%-admission</th>\n",
       "    </tr>\n",
       "    <tr>\n",
       "      <th>gender</th>\n",
       "      <th>major</th>\n",
       "      <th></th>\n",
       "      <th></th>\n",
       "      <th></th>\n",
       "    </tr>\n",
       "  </thead>\n",
       "  <tbody>\n",
       "    <tr>\n",
       "      <th rowspan=\"2\" valign=\"top\">female</th>\n",
       "      <th>Chemistry</th>\n",
       "      <td>226</td>\n",
       "      <td>51</td>\n",
       "      <td>0.23</td>\n",
       "    </tr>\n",
       "    <tr>\n",
       "      <th>Physics</th>\n",
       "      <td>31</td>\n",
       "      <td>23</td>\n",
       "      <td>0.74</td>\n",
       "    </tr>\n",
       "    <tr>\n",
       "      <th rowspan=\"2\" valign=\"top\">male</th>\n",
       "      <th>Chemistry</th>\n",
       "      <td>18</td>\n",
       "      <td>2</td>\n",
       "      <td>0.11</td>\n",
       "    </tr>\n",
       "    <tr>\n",
       "      <th>Physics</th>\n",
       "      <td>225</td>\n",
       "      <td>116</td>\n",
       "      <td>0.52</td>\n",
       "    </tr>\n",
       "  </tbody>\n",
       "</table>\n",
       "</div>"
      ],
      "text/plain": [
       "                  application  admission  %-admission\n",
       "gender major                                         \n",
       "female Chemistry          226         51         0.23\n",
       "       Physics             31         23         0.74\n",
       "male   Chemistry           18          2         0.11\n",
       "       Physics            225        116         0.52"
      ]
     },
     "execution_count": 26,
     "metadata": {},
     "output_type": "execute_result"
    }
   ],
   "source": [
    "deeper = pd.DataFrame()\n",
    "deeper['application'] = data.groupby(['gender', 'major']).count()['admitted']\n",
    "deeper['admission'] = data.query('admitted == True').groupby(['gender', 'major']).count()['admitted']\n",
    "deeper['%-admission'] = deeper['admission'] / deeper['application']\n",
    "deeper"
   ]
  },
  {
   "cell_type": "markdown",
   "id": "0e2fb7f9-0aef-4bad-9f73-d50e12a9d75e",
   "metadata": {},
   "source": [
    "When broken down by department, females appear to have a better chance of being admitted than males. Exactly the opposite of what you observed above."
   ]
  },
  {
   "cell_type": "code",
   "execution_count": null,
   "id": "372fc739-66d3-4114-9796-a2a2b9ba6126",
   "metadata": {},
   "outputs": [],
   "source": []
  }
 ],
 "metadata": {
  "kernelspec": {
   "display_name": "Python 3",
   "language": "python",
   "name": "python3"
  },
  "language_info": {
   "codemirror_mode": {
    "name": "ipython",
    "version": 3
   },
   "file_extension": ".py",
   "mimetype": "text/x-python",
   "name": "python",
   "nbconvert_exporter": "python",
   "pygments_lexer": "ipython3",
   "version": "3.6.13"
  }
 },
 "nbformat": 4,
 "nbformat_minor": 5
}
