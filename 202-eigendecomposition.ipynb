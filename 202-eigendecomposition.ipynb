{
 "cells": [
  {
   "cell_type": "code",
   "execution_count": 22,
   "id": "81efd404-05eb-4605-a25d-8f03ac571177",
   "metadata": {},
   "outputs": [],
   "source": [
    "# Standard imports\n",
    "import pandas as pd\n",
    "import numpy as np\n",
    "import matplotlib.pyplot as plt\n",
    "import seaborn as sns\n",
    "\n",
    "sns.set_style('darkgrid')\n",
    "sns.set_context('talk')\n",
    "\n",
    "# Disable jedi autocompleter\n",
    "%config Completer.use_jedi = False"
   ]
  },
  {
   "cell_type": "markdown",
   "id": "2471e1ff-6034-44a9-9706-9c71a9238bd1",
   "metadata": {},
   "source": [
    "# Eigendecomposition of a Matrix\n",
    "\n",
    "Decomposing a matrix means that we want to find a product of matrices that is equal to the initial matrix. In the case of eigendecomposition, we decompose the initial matrix into the product of its eigenvectors and eigenvalues.\n",
    "\n",
    "A vector is an eigenvector of a matrix if it satisfies the following equation:\n",
    "\n",
    "$$Av = \\lambda v$$\n",
    "\n",
    "This is called the eigenvalue equation, where A is the parent square matrix that we are decomposing, v is the eigenvector of the matrix, and λ represents the eigenvalue scalar.\n",
    "\n",
    "A matrix could have one eigenvector and eigenvalue for each dimension of the parent matrix. Not all square matrices can be decomposed into eigenvectors and eigenvalues, and some can only be decomposed in a way that requires complex numbers. The parent matrix can be shown to be a product of the eigenvectors and eigenvalues:\n",
    "\n",
    "$$ A = Q\\Lambda Q^T $$\n",
    "\n",
    "Where $Q$ is a matrix comprised of the eigenvectors, $\\Lambda$  is the diagonal matrix comprised of the eigenvalues, and $Q^T$ is the transpose of the matrix comprised of the eigenvectors.\n",
    "\n",
    "> Almost all vectors change direction, when they are multiplied by A. Certain exceptional vectors x are in the same direction as Ax. Those are the “eigenvectors”. Multiply an eigenvector by A, and the vector Ax is the number λ times the original x. Almost all vectors change direction, when they are multiplied by A. Certain exceptional vectors x are in the same direction as Ax. Those are the “eigenvectors”. Multiply an eigenvector by A, and the vector Ax is the number λ times the original x."
   ]
  },
  {
   "cell_type": "markdown",
   "id": "eb38192f-7696-4a88-898a-10ed8532289b",
   "metadata": {},
   "source": [
    "## Eigenvectors and Eigenvalues\n",
    "\n",
    "* Imagine that the transformation of the initial vector gives us a new vector that has exact same direction.\n",
    "* The scale can be different but the direction is the same.  \n",
    "* Applying the matrix doesn't change the direction of the vector: This is called an eigenvector of the matrix. \n",
    "\n",
    "<div class=\"alert alert-block alert-warning\">\n",
    "Imagine that the transformation of the initial vector by the matrix gives a new vector with the exact same direction. This vector is called an eigenvector of A.\n",
    "</div>\n",
    "\n",
    "* This means that $v$ is a eigenvector of **A** if $v$ and **A**$v$ (the transformed vector) are in the same direction.\n",
    "* The output vector is just a scaled version of the input vector. This scalling factor is $\\lambda$ which is called the eigenvalue of **A**:\n",
    "$$\\bf{A}v = \\lambda v$$\n",
    "* The vector Av is the vector v transformed by the matrix A. This transformed vector is a scaled version (scaled by the value λ) of the initial vector v."
   ]
  },
  {
   "cell_type": "code",
   "execution_count": 34,
   "id": "8feb65f6-350d-4ef2-9635-c282f77883b7",
   "metadata": {},
   "outputs": [
    {
     "name": "stdout",
     "output_type": "stream",
     "text": [
      "   5   1\n",
      "   3   3\n"
     ]
    }
   ],
   "source": [
    "A = np.array([[5, 1], \n",
    "              [3, 3]\n",
    "             ])\n",
    "v = np.array([[1], [1]])\n",
    "\n",
    "primat(A)"
   ]
  },
  {
   "cell_type": "code",
   "execution_count": 36,
   "id": "b73e25c3-3a88-4714-ad10-2ab95bfa4e83",
   "metadata": {},
   "outputs": [
    {
     "name": "stdout",
     "output_type": "stream",
     "text": [
      "   6\n",
      "   6\n"
     ]
    },
    {
     "data": {
      "text/plain": [
       "(-1.0, 7.0)"
      ]
     },
     "execution_count": 36,
     "metadata": {},
     "output_type": "execute_result"
    },
    {
     "data": {
      "image/png": "[encoded data removed]",
      "text/plain": [
       "<Figure size 432x288 with 1 Axes>"
      ]
     },
     "metadata": {},
     "output_type": "display_data"
    }
   ],
   "source": [
    "Av = A.dot(v)\n",
    "primat(Av)\n",
    "orange = '#FF9A13'\n",
    "blue = '#1190FF'\n",
    "\n",
    "plotVectors([Av.flatten(), v.flatten()], cols=[blue, orange])\n",
    "plt.ylim(-1, 7)\n",
    "plt.xlim(-1, 7)"
   ]
  },
  {
   "cell_type": "markdown",
   "id": "29306882-b7f6-44ba-9639-ebabb06ea142",
   "metadata": {},
   "source": [
    "## Find Eigenvalue and Eigenvectors in Python\n",
    "\n",
    "Numpy provides a function returning eigenvectors and eigenvalues: `np.linalg.eig(A)`"
   ]
  },
  {
   "cell_type": "code",
   "execution_count": 38,
   "id": "e447a826-c9ad-4104-85ad-f559f6b7ebd4",
   "metadata": {},
   "outputs": [
    {
     "data": {
      "text/plain": [
       "(array([6., 2.]),\n",
       " array([[ 0.70710678, -0.31622777],\n",
       "        [ 0.70710678,  0.9486833 ]]))"
      ]
     },
     "execution_count": 38,
     "metadata": {},
     "output_type": "execute_result"
    }
   ],
   "source": [
    "np.linalg.eig(A)"
   ]
  },
  {
   "cell_type": "code",
   "execution_count": 43,
   "id": "f0a61a3d-a267-4d61-9a31-c3651a5bc3aa",
   "metadata": {},
   "outputs": [
    {
     "data": {
      "text/plain": [
       "array([6., 2.])"
      ]
     },
     "execution_count": 43,
     "metadata": {},
     "output_type": "execute_result"
    }
   ],
   "source": [
    "l, v = np.linalg.eig(A)\n",
    "l"
   ]
  },
  {
   "cell_type": "code",
   "execution_count": 44,
   "id": "4a7d63a9-9e37-4814-a8d4-0f02d9418da6",
   "metadata": {},
   "outputs": [
    {
     "data": {
      "text/plain": [
       "array([[ 0.70710678, -0.31622777],\n",
       "       [ 0.70710678,  0.9486833 ]])"
      ]
     },
     "execution_count": 44,
     "metadata": {},
     "output_type": "execute_result"
    }
   ],
   "source": [
    "v"
   ]
  },
  {
   "cell_type": "code",
   "execution_count": null,
   "id": "4b72fb14-27d7-4083-a9d6-5aa4a1c6ef6e",
   "metadata": {},
   "outputs": [],
   "source": []
  }
 ],
 "metadata": {
  "kernelspec": {
   "display_name": "Python 3",
   "language": "python",
   "name": "python3"
  },
  "language_info": {
   "codemirror_mode": {
    "name": "ipython",
    "version": 3
   },
   "file_extension": ".py",
   "mimetype": "text/x-python",
   "name": "python",
   "nbconvert_exporter": "python",
   "pygments_lexer": "ipython3",
   "version": "3.6.13"
  }
 },
 "nbformat": 4,
 "nbformat_minor": 5
}
